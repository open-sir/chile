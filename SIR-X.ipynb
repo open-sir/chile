{
 "cells": [
  {
   "cell_type": "markdown",
   "metadata": {},
   "source": [
    "# SIR-X"
   ]
  },
  {
   "cell_type": "markdown",
   "metadata": {},
   "source": [
    "This notebook exemplifies how Open-SIR can be used to fit the SIR-X model by [Maier and Dirk (2020)](https://science.sciencemag.org/content/early/2020/04/07/science.abb4557.full) to existing data and make predictions. The SIR-X model is a standard generalization of the Susceptible-Infectious-Removed (SIR) model, which includes the influence of exogenous factors such as policy changes, lockdown of the whole population and quarantine of the infectious individuals.\n",
    "\n",
    "The Open-SIR implementation of the SIR-X model will be validated reproducing the parameter fitting published in the [supplementary material](https://science.sciencemag.org/cgi/content/full/science.abb4557/DC1) of the original article published by [Maier and Brockmann (2020)](https://science.sciencemag.org/content/early/2020/04/07/science.abb4557.full). For simplicity, the validation will be performed only for the city of Guangdong, China."
   ]
  },
  {
   "cell_type": "markdown",
   "metadata": {},
   "source": [
    "## Import modules"
   ]
  },
  {
   "cell_type": "code",
   "execution_count": 1,
   "metadata": {},
   "outputs": [],
   "source": [
    "# Import packages\n",
    "import pandas as pd\n",
    "import matplotlib.pyplot as plt\n",
    "import numpy as np\n",
    "%matplotlib inline"
   ]
  },
  {
   "cell_type": "markdown",
   "metadata": {},
   "source": [
    "## Data sourcing"
   ]
  },
  {
   "cell_type": "markdown",
   "metadata": {},
   "source": [
    "We will source data from the repository of the [John Hopkins University COVID-19 dashboard] (https://coronavirus.jhu.edu/map.html) published formally as a correspondence in [The Lancet](https://www.thelancet.com/journals/laninf/article/PIIS1473-3099(20)30120-1/fulltext#seccestitle10). This time series data contains the number of reported cases $C(t)$ per day for a number of cities.\n",
    "\n"
   ]
  },
  {
   "cell_type": "code",
   "execution_count": 2,
   "metadata": {},
   "outputs": [
    {
     "data": {
      "text/html": [
       "<div>\n",
       "<style scoped>\n",
       "    .dataframe tbody tr th:only-of-type {\n",
       "        vertical-align: middle;\n",
       "    }\n",
       "\n",
       "    .dataframe tbody tr th {\n",
       "        vertical-align: top;\n",
       "    }\n",
       "\n",
       "    .dataframe thead th {\n",
       "        text-align: right;\n",
       "    }\n",
       "</style>\n",
       "<table border=\"1\" class=\"dataframe\">\n",
       "  <thead>\n",
       "    <tr style=\"text-align: right;\">\n",
       "      <th></th>\n",
       "      <th>Province/State</th>\n",
       "      <th>Country/Region</th>\n",
       "      <th>Lat</th>\n",
       "      <th>Long</th>\n",
       "      <th>1/22/20</th>\n",
       "      <th>1/23/20</th>\n",
       "      <th>1/24/20</th>\n",
       "      <th>1/25/20</th>\n",
       "      <th>1/26/20</th>\n",
       "      <th>1/27/20</th>\n",
       "      <th>...</th>\n",
       "      <th>7/5/20</th>\n",
       "      <th>7/6/20</th>\n",
       "      <th>7/7/20</th>\n",
       "      <th>7/8/20</th>\n",
       "      <th>7/9/20</th>\n",
       "      <th>7/10/20</th>\n",
       "      <th>7/11/20</th>\n",
       "      <th>7/12/20</th>\n",
       "      <th>7/13/20</th>\n",
       "      <th>7/14/20</th>\n",
       "    </tr>\n",
       "  </thead>\n",
       "  <tbody>\n",
       "    <tr>\n",
       "      <th>0</th>\n",
       "      <td>NaN</td>\n",
       "      <td>Afghanistan</td>\n",
       "      <td>33.93911</td>\n",
       "      <td>67.709953</td>\n",
       "      <td>0</td>\n",
       "      <td>0</td>\n",
       "      <td>0</td>\n",
       "      <td>0</td>\n",
       "      <td>0</td>\n",
       "      <td>0</td>\n",
       "      <td>...</td>\n",
       "      <td>32951</td>\n",
       "      <td>33190</td>\n",
       "      <td>33384</td>\n",
       "      <td>33594</td>\n",
       "      <td>33908</td>\n",
       "      <td>34194</td>\n",
       "      <td>34366</td>\n",
       "      <td>34451</td>\n",
       "      <td>34455</td>\n",
       "      <td>34740</td>\n",
       "    </tr>\n",
       "    <tr>\n",
       "      <th>1</th>\n",
       "      <td>NaN</td>\n",
       "      <td>Albania</td>\n",
       "      <td>41.15330</td>\n",
       "      <td>20.168300</td>\n",
       "      <td>0</td>\n",
       "      <td>0</td>\n",
       "      <td>0</td>\n",
       "      <td>0</td>\n",
       "      <td>0</td>\n",
       "      <td>0</td>\n",
       "      <td>...</td>\n",
       "      <td>2893</td>\n",
       "      <td>2964</td>\n",
       "      <td>3038</td>\n",
       "      <td>3106</td>\n",
       "      <td>3188</td>\n",
       "      <td>3278</td>\n",
       "      <td>3371</td>\n",
       "      <td>3454</td>\n",
       "      <td>3571</td>\n",
       "      <td>3667</td>\n",
       "    </tr>\n",
       "    <tr>\n",
       "      <th>2</th>\n",
       "      <td>NaN</td>\n",
       "      <td>Algeria</td>\n",
       "      <td>28.03390</td>\n",
       "      <td>1.659600</td>\n",
       "      <td>0</td>\n",
       "      <td>0</td>\n",
       "      <td>0</td>\n",
       "      <td>0</td>\n",
       "      <td>0</td>\n",
       "      <td>0</td>\n",
       "      <td>...</td>\n",
       "      <td>15941</td>\n",
       "      <td>16404</td>\n",
       "      <td>16879</td>\n",
       "      <td>17348</td>\n",
       "      <td>17808</td>\n",
       "      <td>18242</td>\n",
       "      <td>18712</td>\n",
       "      <td>19195</td>\n",
       "      <td>19689</td>\n",
       "      <td>20216</td>\n",
       "    </tr>\n",
       "    <tr>\n",
       "      <th>3</th>\n",
       "      <td>NaN</td>\n",
       "      <td>Andorra</td>\n",
       "      <td>42.50630</td>\n",
       "      <td>1.521800</td>\n",
       "      <td>0</td>\n",
       "      <td>0</td>\n",
       "      <td>0</td>\n",
       "      <td>0</td>\n",
       "      <td>0</td>\n",
       "      <td>0</td>\n",
       "      <td>...</td>\n",
       "      <td>855</td>\n",
       "      <td>855</td>\n",
       "      <td>855</td>\n",
       "      <td>855</td>\n",
       "      <td>855</td>\n",
       "      <td>855</td>\n",
       "      <td>855</td>\n",
       "      <td>855</td>\n",
       "      <td>858</td>\n",
       "      <td>861</td>\n",
       "    </tr>\n",
       "    <tr>\n",
       "      <th>4</th>\n",
       "      <td>NaN</td>\n",
       "      <td>Angola</td>\n",
       "      <td>-11.20270</td>\n",
       "      <td>17.873900</td>\n",
       "      <td>0</td>\n",
       "      <td>0</td>\n",
       "      <td>0</td>\n",
       "      <td>0</td>\n",
       "      <td>0</td>\n",
       "      <td>0</td>\n",
       "      <td>...</td>\n",
       "      <td>346</td>\n",
       "      <td>346</td>\n",
       "      <td>386</td>\n",
       "      <td>386</td>\n",
       "      <td>396</td>\n",
       "      <td>458</td>\n",
       "      <td>462</td>\n",
       "      <td>506</td>\n",
       "      <td>525</td>\n",
       "      <td>541</td>\n",
       "    </tr>\n",
       "    <tr>\n",
       "      <th>5</th>\n",
       "      <td>NaN</td>\n",
       "      <td>Antigua and Barbuda</td>\n",
       "      <td>17.06080</td>\n",
       "      <td>-61.796400</td>\n",
       "      <td>0</td>\n",
       "      <td>0</td>\n",
       "      <td>0</td>\n",
       "      <td>0</td>\n",
       "      <td>0</td>\n",
       "      <td>0</td>\n",
       "      <td>...</td>\n",
       "      <td>68</td>\n",
       "      <td>70</td>\n",
       "      <td>70</td>\n",
       "      <td>70</td>\n",
       "      <td>73</td>\n",
       "      <td>74</td>\n",
       "      <td>74</td>\n",
       "      <td>74</td>\n",
       "      <td>74</td>\n",
       "      <td>74</td>\n",
       "    </tr>\n",
       "    <tr>\n",
       "      <th>6</th>\n",
       "      <td>NaN</td>\n",
       "      <td>Argentina</td>\n",
       "      <td>-38.41610</td>\n",
       "      <td>-63.616700</td>\n",
       "      <td>0</td>\n",
       "      <td>0</td>\n",
       "      <td>0</td>\n",
       "      <td>0</td>\n",
       "      <td>0</td>\n",
       "      <td>0</td>\n",
       "      <td>...</td>\n",
       "      <td>77815</td>\n",
       "      <td>80447</td>\n",
       "      <td>83426</td>\n",
       "      <td>87030</td>\n",
       "      <td>90693</td>\n",
       "      <td>94060</td>\n",
       "      <td>97509</td>\n",
       "      <td>100166</td>\n",
       "      <td>103265</td>\n",
       "      <td>106910</td>\n",
       "    </tr>\n",
       "    <tr>\n",
       "      <th>7</th>\n",
       "      <td>NaN</td>\n",
       "      <td>Armenia</td>\n",
       "      <td>40.06910</td>\n",
       "      <td>45.038200</td>\n",
       "      <td>0</td>\n",
       "      <td>0</td>\n",
       "      <td>0</td>\n",
       "      <td>0</td>\n",
       "      <td>0</td>\n",
       "      <td>0</td>\n",
       "      <td>...</td>\n",
       "      <td>28606</td>\n",
       "      <td>28936</td>\n",
       "      <td>29285</td>\n",
       "      <td>29820</td>\n",
       "      <td>30346</td>\n",
       "      <td>30903</td>\n",
       "      <td>31392</td>\n",
       "      <td>31969</td>\n",
       "      <td>32151</td>\n",
       "      <td>32490</td>\n",
       "    </tr>\n",
       "    <tr>\n",
       "      <th>8</th>\n",
       "      <td>Australian Capital Territory</td>\n",
       "      <td>Australia</td>\n",
       "      <td>-35.47350</td>\n",
       "      <td>149.012400</td>\n",
       "      <td>0</td>\n",
       "      <td>0</td>\n",
       "      <td>0</td>\n",
       "      <td>0</td>\n",
       "      <td>0</td>\n",
       "      <td>0</td>\n",
       "      <td>...</td>\n",
       "      <td>108</td>\n",
       "      <td>108</td>\n",
       "      <td>111</td>\n",
       "      <td>112</td>\n",
       "      <td>113</td>\n",
       "      <td>113</td>\n",
       "      <td>113</td>\n",
       "      <td>113</td>\n",
       "      <td>113</td>\n",
       "      <td>113</td>\n",
       "    </tr>\n",
       "    <tr>\n",
       "      <th>9</th>\n",
       "      <td>New South Wales</td>\n",
       "      <td>Australia</td>\n",
       "      <td>-33.86880</td>\n",
       "      <td>151.209300</td>\n",
       "      <td>0</td>\n",
       "      <td>0</td>\n",
       "      <td>0</td>\n",
       "      <td>0</td>\n",
       "      <td>3</td>\n",
       "      <td>4</td>\n",
       "      <td>...</td>\n",
       "      <td>3429</td>\n",
       "      <td>3433</td>\n",
       "      <td>3440</td>\n",
       "      <td>3453</td>\n",
       "      <td>3467</td>\n",
       "      <td>3474</td>\n",
       "      <td>3478</td>\n",
       "      <td>3492</td>\n",
       "      <td>3505</td>\n",
       "      <td>3517</td>\n",
       "    </tr>\n",
       "  </tbody>\n",
       "</table>\n",
       "<p>10 rows × 179 columns</p>\n",
       "</div>"
      ],
      "text/plain": [
       "                 Province/State       Country/Region       Lat        Long  \\\n",
       "0                           NaN          Afghanistan  33.93911   67.709953   \n",
       "1                           NaN              Albania  41.15330   20.168300   \n",
       "2                           NaN              Algeria  28.03390    1.659600   \n",
       "3                           NaN              Andorra  42.50630    1.521800   \n",
       "4                           NaN               Angola -11.20270   17.873900   \n",
       "5                           NaN  Antigua and Barbuda  17.06080  -61.796400   \n",
       "6                           NaN            Argentina -38.41610  -63.616700   \n",
       "7                           NaN              Armenia  40.06910   45.038200   \n",
       "8  Australian Capital Territory            Australia -35.47350  149.012400   \n",
       "9               New South Wales            Australia -33.86880  151.209300   \n",
       "\n",
       "   1/22/20  1/23/20  1/24/20  1/25/20  1/26/20  1/27/20  ...  7/5/20  7/6/20  \\\n",
       "0        0        0        0        0        0        0  ...   32951   33190   \n",
       "1        0        0        0        0        0        0  ...    2893    2964   \n",
       "2        0        0        0        0        0        0  ...   15941   16404   \n",
       "3        0        0        0        0        0        0  ...     855     855   \n",
       "4        0        0        0        0        0        0  ...     346     346   \n",
       "5        0        0        0        0        0        0  ...      68      70   \n",
       "6        0        0        0        0        0        0  ...   77815   80447   \n",
       "7        0        0        0        0        0        0  ...   28606   28936   \n",
       "8        0        0        0        0        0        0  ...     108     108   \n",
       "9        0        0        0        0        3        4  ...    3429    3433   \n",
       "\n",
       "   7/7/20  7/8/20  7/9/20  7/10/20  7/11/20  7/12/20  7/13/20  7/14/20  \n",
       "0   33384   33594   33908    34194    34366    34451    34455    34740  \n",
       "1    3038    3106    3188     3278     3371     3454     3571     3667  \n",
       "2   16879   17348   17808    18242    18712    19195    19689    20216  \n",
       "3     855     855     855      855      855      855      858      861  \n",
       "4     386     386     396      458      462      506      525      541  \n",
       "5      70      70      73       74       74       74       74       74  \n",
       "6   83426   87030   90693    94060    97509   100166   103265   106910  \n",
       "7   29285   29820   30346    30903    31392    31969    32151    32490  \n",
       "8     111     112     113      113      113      113      113      113  \n",
       "9    3440    3453    3467     3474     3478     3492     3505     3517  \n",
       "\n",
       "[10 rows x 179 columns]"
      ]
     },
     "execution_count": 2,
     "metadata": {},
     "output_type": "execute_result"
    }
   ],
   "source": [
    "# Source data from John Hokpins university reposotiry\n",
    "# jhu_link = \"https://raw.githubusercontent.com/CSSEGISandData/COVID-19/master/who_covid_19_situation_reports/who_covid_19_sit_rep_time_series/who_covid_19_sit_rep_time_series.csv\"\n",
    "jhu_link = \"https://raw.githubusercontent.com/CSSEGISandData/COVID-19/master/csse_covid_19_data/csse_covid_19_time_series/time_series_covid19_confirmed_global.csv\"\n",
    "jhu_df = pd.read_csv(jhu_link)\n",
    "# Explore the dataset\n",
    "jhu_df.head(10)"
   ]
  },
  {
   "cell_type": "markdown",
   "metadata": {},
   "source": [
    "It is observed that the column \"Province/States\" contains the name of the cities, and since the forth column a time series stamp (or index) is provided to record daily data of reported cases. Additionally, there are many days without recorded data for a number of chinese cities. This won't be an issue for parameter fitting as Open-SIR doesn't require uniform spacement of the observed data."
   ]
  },
  {
   "cell_type": "markdown",
   "metadata": {},
   "source": [
    "### Data preparation\n",
    "\n",
    "In the following lines, the time series for Guangdong reported cases $C(t)$ is extracted from the original dataframe. Thereafter, the columns are converted to a pandas date time index in order to perform further data preparation steps."
   ]
  },
  {
   "cell_type": "code",
   "execution_count": 3,
   "metadata": {},
   "outputs": [],
   "source": [
    "China = jhu_df[jhu_df[jhu_df.columns[1]]==\"China\"]\n",
    "city_name = \"Guangdong\"\n",
    "city = China[China[\"Province/State\"] == city_name]\n",
    "city = city.drop(columns=[\"Province/State\", \"Country/Region\", \"Lat\",\"Long\"])\n",
    "time_index = pd.to_datetime(city.columns)\n",
    "data = city.values\n",
    "# Visualize the time\n",
    "ts = pd.Series(data = city.values[0], index = time_index)"
   ]
  },
  {
   "cell_type": "markdown",
   "metadata": {},
   "source": [
    "Using the function ts.plot() a quick visualization of the dataset is obtained:"
   ]
  },
  {
   "cell_type": "code",
   "execution_count": 4,
   "metadata": {},
   "outputs": [
    {
     "data": {
      "image/png": "[encoded data removed]",
      "text/plain": [
       "<Figure size 432x288 with 1 Axes>"
      ]
     },
     "metadata": {
      "needs_background": "light"
     },
     "output_type": "display_data"
    }
   ],
   "source": [
    "ts.plot()\n",
    "plt.show()"
   ]
  },
  {
   "cell_type": "markdown",
   "metadata": {},
   "source": [
    "Data cleaning"
   ]
  },
  {
   "cell_type": "code",
   "execution_count": 5,
   "metadata": {},
   "outputs": [],
   "source": [
    "ts_clean = ts.dropna()\n",
    "# Extract data\n",
    "ts_fit = ts_clean['2020-01-21':\"2020-02-12\"]\n",
    "# Convert index to numeric\n",
    "ts_num = pd.to_numeric(ts_fit.index)\n",
    "t0 = ts_num[0]\n",
    "# Convert datetime to days\n",
    "t_days = (ts_num-t0)/(10**9*86400)\n",
    "t_days = t_days.astype(int).values\n",
    "# t_days is an input for SIR"
   ]
  },
  {
   "cell_type": "code",
   "execution_count": 6,
   "metadata": {},
   "outputs": [],
   "source": [
    "# Define the X number\n",
    "nX = ts_fit.values # Number of infected\n",
    "N = 104.3e6 # Population size of Guangdong"
   ]
  },
  {
   "cell_type": "markdown",
   "metadata": {},
   "source": [
    "Exploration of the dataset"
   ]
  },
  {
   "cell_type": "code",
   "execution_count": 7,
   "metadata": {},
   "outputs": [
    {
     "data": {
      "image/png": "[encoded data removed]",
      "text/plain": [
       "<Figure size 432x288 with 1 Axes>"
      ]
     },
     "metadata": {
      "needs_background": "light"
     },
     "output_type": "display_data"
    }
   ],
   "source": [
    "ts_fit.plot(style='ro')\n",
    "plt.xlabel(\"Number of infected\")\n",
    "plt.show()"
   ]
  },
  {
   "cell_type": "markdown",
   "metadata": {},
   "source": [
    "### Setting up SIR and SIR-X models"
   ]
  },
  {
   "cell_type": "markdown",
   "metadata": {},
   "source": [
    "The population $N$ of the city is a necessary input for the model. In this notebook, this was hardocded, but it can be sourced directly from a web source.\n",
    "\n",
    "Note that whilst the SIR model estimates directly the number of infected people, $N I(t)$, SIR-X estimates the number of infected people based on the number of tested cases that are in quarantine or in an hospital $N X(t)$"
   ]
  },
  {
   "cell_type": "code",
   "execution_count": 8,
   "metadata": {},
   "outputs": [],
   "source": [
    "# These lines are required only if opensir wasn't installed using pip install, or if opensir is running in the pipenv virtual environment\n",
    "import sys\n",
    "path_opensir = '../../'\n",
    "sys.path.append(path_opensir)\n",
    "\n",
    "# Import SIR and SIRX models\n",
    "from opensir.models import SIR, SIRX\n",
    "nX = ts_fit.values # Number of observed infections of the time series\n",
    "N = 104.3e6 # Population size of Guangdong\n",
    "params = [0.95, 0.38]\n",
    "w0 = (N-nX[0], nX[0], 0)\n",
    "\n",
    "G_sir = SIR()\n",
    "G_sir.set_params(p=params, initial_conds=w0)\n",
    "G_sir.fit_input=2\n",
    "G_sir.fit(t_days, nX)\n",
    "G_sir.solve(t_days[-1], t_days[-1]+1)\n",
    "t_SIR = G_sir.fetch()[:,0]\n",
    "I_SIR = G_sir.fetch()[:,2]"
   ]
  },
  {
   "cell_type": "markdown",
   "metadata": {},
   "source": [
    "### Try to fit a SIR model to Guangdong data"
   ]
  },
  {
   "cell_type": "code",
   "execution_count": 9,
   "metadata": {},
   "outputs": [
    {
     "data": {
      "image/png": "[encoded data removed]",
      "text/plain": [
       "<Figure size 432x288 with 1 Axes>"
      ]
     },
     "metadata": {
      "needs_background": "light"
     },
     "output_type": "display_data"
    }
   ],
   "source": [
    "ax = plt.axes()\n",
    "ax.tick_params(axis=\"both\", which=\"major\", labelsize= 14 )\n",
    "plt.plot(t_SIR, I_SIR)\n",
    "plt.plot(t_days, nX, 'ro')\n",
    "plt.show()"
   ]
  },
  {
   "cell_type": "markdown",
   "metadata": {},
   "source": [
    "The SIR model is clearly not appropriate to fit this data, as it cannot resolve the effect of exogeneous containment efforts such as quarantines or lockdown. We will repeat the process with a SIR-X model."
   ]
  },
  {
   "cell_type": "code",
   "execution_count": 10,
   "metadata": {},
   "outputs": [],
   "source": [
    "g_sirx = SIRX()\n",
    "params = [6.2/8, 1/8, 0.05, 0.05, 5]\n",
    "# X_0 can be directly ontained from the statistics\n",
    "n_x0 = nX[0]            # Number of people tested positive\n",
    "n_i0 = nX[0]\n",
    "\n",
    "w0 = (N-n_x0-n_i0, n_i0, 0, n_x0)\n",
    "g_sirx.set_params(p=params, initial_conds=w0)\n",
    "# Fit all parameters\n",
    "fit_index=[False, False, True, True, True]\n",
    "g_sirx.fit(t_days, nX, fit_index = fit_index)\n",
    "g_sirx.solve(t_days[-1], t_days[-1]+1)\n",
    "t_sirx = g_sirx.fetch()[:,0]\n",
    "inf_sirx = g_sirx.fetch()[:,4]"
   ]
  },
  {
   "cell_type": "code",
   "execution_count": 11,
   "metadata": {},
   "outputs": [
    {
     "data": {
      "image/png": "[encoded data removed]",
      "text/plain": [
       "<Figure size 432x432 with 1 Axes>"
      ]
     },
     "metadata": {
      "needs_background": "light"
     },
     "output_type": "display_data"
    }
   ],
   "source": [
    "plt.figure(figsize=[6,6])\n",
    "ax = plt.axes()\n",
    "plt.plot(t_sirx, inf_sirx, 'b-', linewidth=2)\n",
    "plt.plot(t_SIR, I_SIR,'g-', linewidth=2)\n",
    "plt.plot(t_days, nX, 'ro')\n",
    "plt.legend([\"SIR-X model fit\", \"SIR model fit\", \"Number of reported cases\"], fontsize=13)\n",
    "plt.title(\"SARS-CoV-2 evolution in Guangdong, China\", size=15)\n",
    "plt.xlabel('Days', fontsize=14)\n",
    "plt.ylabel('COVID-19 confirmed cases', fontsize=14)\n",
    "ax.tick_params(axis='both', which='major', labelsize=14)\n",
    "plt.show()"
   ]
  },
  {
   "cell_type": "markdown",
   "metadata": {},
   "source": [
    "After fitting the parameters, the effective infectious period $T_{I,eff}$ and the effective reproduction rate $R_{0,eff}$ can be obtained from the model properties\n",
    "\n",
    "$$T_{I,eff} = (\\beta + \\kappa + \\kappa_0)^{-1}$$\n",
    "$$R_{0,eff} = \\alpha T_{I,eff}$$\n",
    "\n",
    "Aditionally, the Public containment leverage $P$ and the quarantine probability $Q$ can be calculated through:\n",
    "\n",
    "$$P = \\frac{\\kappa_0}{\\kappa_0 + \\kappa}$$\n",
    "$$Q = \\frac{\\kappa_0 + \\kappa}{\\beta + \\kappa_0 + \\kappa}$$"
   ]
  },
  {
   "cell_type": "code",
   "execution_count": 12,
   "metadata": {},
   "outputs": [
    {
     "name": "stdout",
     "output_type": "stream",
     "text": [
      "Effective infectious period T_I_eff =  3.88 days \n",
      "Effective reproduction rate R_0_eff =  3.01, Maier and Brockmann = 3.02\n",
      "Public containment leverage =  0.79, Maier and Brockmann = 0.75\n",
      "Quarantine probability =  0.52, Maier and Brockmann = 0.51\n"
     ]
    }
   ],
   "source": [
    "print(\"Effective infectious period T_I_eff =  %.2f days \" % g_sirx.t_inf_eff )\n",
    "print(\"Effective reproduction rate R_0_eff =  %.2f, Maier and Brockmann = %.2f\" % (g_sirx.r0_eff, 3.02))\n",
    "print(\"Public containment leverage =  %.2f, Maier and Brockmann = %.2f\" % (g_sirx.pcl, 0.75))\n",
    "print(\"Quarantine probability =  %.2f, Maier and Brockmann = %.2f\" % (g_sirx.q_prob, 0.51))"
   ]
  },
  {
   "cell_type": "markdown",
   "metadata": {},
   "source": [
    "### Calculation of predictive confidence intervals\n",
    "\n",
    "The confidence intervals on the predictions of the SIR-X model can be calculated using a block cross validation. This technique is widely used in Time Series Analysis. In the open-sir API, the function `model.ci_block_cv` calculates the average mean squared error of the predictions, a list of the rolling mean squared errors and the list of parameters which shows how much each parameter changes taking different number of days for making predictions.\n",
    "\n",
    "The three first parameters are the same as the fit function, while the last two parameters are the `lags` and the `min_sample`. The `lags` parameter indicates how many periods in the future will be forecasted in order to calculate the mean squared error of the model prediction. The `min_sample` parameter indicates the initial number of observations and days that will be taken to perform the block cross validation.\n",
    "\n",
    "In the following example, `model.ci_block_cv` is used to estimate the average mean squared error of *1-day* predictions taking *6* observations as the starting point of the cross validation. For Guangdong, a `min_sample=6` higher than the default 3 is required to handle well the missing data. This way, both the data on the four first days, and two days after the data starts again, are considered for cross validation."
   ]
  },
  {
   "cell_type": "code",
   "execution_count": 13,
   "metadata": {},
   "outputs": [],
   "source": [
    "# Calculate confidence intervals\n",
    "mse_avg, mse_list, p_list, pred_data = g_sirx.block_cv(lags = 1, min_sample = 6)"
   ]
  },
  {
   "cell_type": "markdown",
   "metadata": {},
   "source": [
    "If it is assumed that the residuals distribute normally, then a good estimation of a 95% confidence interval on the one-day prediction of the number of confirmed cases is \n",
    "\n",
    "$$\\sigma \\sim \\mathrm{MSE} \\rightarrow n_{X,{t+1}} \\sim \\hat{n}_{X,{t+1}} \\pm 2 \\sigma$$ \n",
    "\n",
    "Where $n_{X,{t+1}}$ is the real number of confirmed cases in the next day, and $\\hat{n}_{X,{t+1}}$ is the estimation using the SIR-X model using cross validation. We can use the `PredictionResults` instance `pred_data` functionality to explore the mean-squared errors and the predictions confidence intervals:"
   ]
  },
  {
   "cell_type": "code",
   "execution_count": 14,
   "metadata": {},
   "outputs": [
    {
     "name": "stdout",
     "output_type": "stream",
     "text": [
      "Average MSE for 0-day predictions = 18.21, MSE sample size = 16\n",
      "Average MSE for 1-day predictions = 28.94, MSE sample size = 15\n",
      "Average MSE for 2-day predictions = 40.50, MSE sample size = 14\n",
      "Average MSE for 3-day predictions = 55.46, MSE sample size = 13\n",
      "Average MSE for 4-day predictions = 74.75, MSE sample size = 12\n",
      "Average MSE for 5-day predictions = 96.88, MSE sample size = 11\n",
      "Average MSE for 6-day predictions = 121.33, MSE sample size = 10\n",
      "Average MSE for 7-day predictions = 148.01, MSE sample size = 9\n",
      "Average MSE for 8-day predictions = 176.33, MSE sample size = 8\n",
      "Average MSE for 9-day predictions = 204.69, MSE sample size = 7\n",
      "Average MSE for 10-day predictions = 231.87, MSE sample size = 6\n",
      "Average MSE for 11-day predictions = 255.87, MSE sample size = 5\n",
      "Average MSE for 12-day predictions = 298.53, MSE sample size = 4\n",
      "Average MSE for 13-day predictions = 289.29, MSE sample size = 3\n",
      "Average MSE for 14-day predictions = 92.49, MSE sample size = 2\n",
      "Average MSE for 15-day predictions = 196.88, MSE sample size = 1\n"
     ]
    }
   ],
   "source": [
    "pred_data.print_mse()"
   ]
  },
  {
   "cell_type": "markdown",
   "metadata": {},
   "source": [
    "The predictive accuracy of the model is quite impressive, even for 9-day predictions. Let's take advantage of the relatively low mean squared error to forecast a 10 days horizon with confidence intervals using `pred_data.plot_predictions(n_days=9)`"
   ]
  },
  {
   "cell_type": "code",
   "execution_count": 15,
   "metadata": {
    "scrolled": false
   },
   "outputs": [
    {
     "data": {
      "image/png": "[encoded data removed]",
      "text/plain": [
       "<Figure size 432x432 with 1 Axes>"
      ]
     },
     "metadata": {
      "needs_background": "light"
     },
     "output_type": "display_data"
    }
   ],
   "source": [
    "pred_data.plot_predictions(n_days=9)"
   ]
  },
  {
   "cell_type": "markdown",
   "metadata": {},
   "source": [
    "If it is assumed that the residuals distribute normally, then a good estimation of a 95% confidence interval on the one-day prediction of the number of confirmed cases is \n",
    "\n",
    "$$\\sigma \\sim \\mathrm{MSE} \\rightarrow n_{X,{t+1}} \\sim \\hat{n}_{X,{t+1}} \\pm 2 \\sigma$$ \n",
    "\n",
    "Where $n_{X,{t+1}}$ is the real number of confirmed cases in the next day, and $\\hat{n}_{X,{t+1}}$ is the estimation using the SIR-X model using cross validation. We use solve to make a 1-day prediction and append the 95% confidence interval."
   ]
  },
  {
   "cell_type": "code",
   "execution_count": 16,
   "metadata": {},
   "outputs": [
    {
     "name": "stdout",
     "output_type": "stream",
     "text": [
      "Estimation of n_X_{t+1} = 1268 +- 36 \n"
     ]
    }
   ],
   "source": [
    "# Predict\n",
    "g_sirx.solve(t_days[-1]+1,t_days[-1]+2)\n",
    "n_X_tplusone = g_sirx.fetch()[-1,4]\n",
    "print(\"Estimation of n_X_{t+1} = %.0f +- %.0f \" % (n_X_tplusone, 2*mse_avg[0]) )"
   ]
  },
  {
   "cell_type": "code",
   "execution_count": 17,
   "metadata": {
    "scrolled": true
   },
   "outputs": [
    {
     "data": {
      "text/html": [
       "<div>\n",
       "<style scoped>\n",
       "    .dataframe tbody tr th:only-of-type {\n",
       "        vertical-align: middle;\n",
       "    }\n",
       "\n",
       "    .dataframe tbody tr th {\n",
       "        vertical-align: top;\n",
       "    }\n",
       "\n",
       "    .dataframe thead th {\n",
       "        text-align: right;\n",
       "    }\n",
       "</style>\n",
       "<table border=\"1\" class=\"dataframe\">\n",
       "  <thead>\n",
       "    <tr style=\"text-align: right;\">\n",
       "      <th></th>\n",
       "      <th>alpha</th>\n",
       "      <th>beta</th>\n",
       "      <th>kappa_0</th>\n",
       "      <th>kappa</th>\n",
       "      <th>inf_over_test</th>\n",
       "      <th>Day</th>\n",
       "    </tr>\n",
       "  </thead>\n",
       "  <tbody>\n",
       "    <tr>\n",
       "      <th>0</th>\n",
       "      <td>0.775</td>\n",
       "      <td>0.125</td>\n",
       "      <td>0.115900</td>\n",
       "      <td>2.472714e-13</td>\n",
       "      <td>2.705770</td>\n",
       "      <td>5</td>\n",
       "    </tr>\n",
       "    <tr>\n",
       "      <th>1</th>\n",
       "      <td>0.775</td>\n",
       "      <td>0.125</td>\n",
       "      <td>0.109540</td>\n",
       "      <td>8.640802e-10</td>\n",
       "      <td>2.774669</td>\n",
       "      <td>6</td>\n",
       "    </tr>\n",
       "    <tr>\n",
       "      <th>2</th>\n",
       "      <td>0.775</td>\n",
       "      <td>0.125</td>\n",
       "      <td>0.065223</td>\n",
       "      <td>1.206344e-01</td>\n",
       "      <td>1.764604</td>\n",
       "      <td>7</td>\n",
       "    </tr>\n",
       "    <tr>\n",
       "      <th>3</th>\n",
       "      <td>0.775</td>\n",
       "      <td>0.125</td>\n",
       "      <td>0.082934</td>\n",
       "      <td>6.629895e-02</td>\n",
       "      <td>2.099931</td>\n",
       "      <td>8</td>\n",
       "    </tr>\n",
       "    <tr>\n",
       "      <th>4</th>\n",
       "      <td>0.775</td>\n",
       "      <td>0.125</td>\n",
       "      <td>0.104995</td>\n",
       "      <td>1.792900e-14</td>\n",
       "      <td>2.822296</td>\n",
       "      <td>9</td>\n",
       "    </tr>\n",
       "    <tr>\n",
       "      <th>5</th>\n",
       "      <td>0.775</td>\n",
       "      <td>0.125</td>\n",
       "      <td>0.089924</td>\n",
       "      <td>4.695617e-02</td>\n",
       "      <td>2.263911</td>\n",
       "      <td>10</td>\n",
       "    </tr>\n",
       "    <tr>\n",
       "      <th>6</th>\n",
       "      <td>0.775</td>\n",
       "      <td>0.125</td>\n",
       "      <td>0.092797</td>\n",
       "      <td>3.732302e-02</td>\n",
       "      <td>2.355464</td>\n",
       "      <td>11</td>\n",
       "    </tr>\n",
       "    <tr>\n",
       "      <th>7</th>\n",
       "      <td>0.775</td>\n",
       "      <td>0.125</td>\n",
       "      <td>0.104239</td>\n",
       "      <td>2.828441e-07</td>\n",
       "      <td>2.824631</td>\n",
       "      <td>12</td>\n",
       "    </tr>\n",
       "    <tr>\n",
       "      <th>8</th>\n",
       "      <td>0.775</td>\n",
       "      <td>0.125</td>\n",
       "      <td>0.105290</td>\n",
       "      <td>1.722384e-13</td>\n",
       "      <td>2.843347</td>\n",
       "      <td>13</td>\n",
       "    </tr>\n",
       "    <tr>\n",
       "      <th>9</th>\n",
       "      <td>0.775</td>\n",
       "      <td>0.125</td>\n",
       "      <td>0.106338</td>\n",
       "      <td>1.838751e-10</td>\n",
       "      <td>2.866021</td>\n",
       "      <td>14</td>\n",
       "    </tr>\n",
       "    <tr>\n",
       "      <th>10</th>\n",
       "      <td>0.775</td>\n",
       "      <td>0.125</td>\n",
       "      <td>0.107281</td>\n",
       "      <td>1.555796e-10</td>\n",
       "      <td>2.889821</td>\n",
       "      <td>15</td>\n",
       "    </tr>\n",
       "    <tr>\n",
       "      <th>11</th>\n",
       "      <td>0.775</td>\n",
       "      <td>0.125</td>\n",
       "      <td>0.108249</td>\n",
       "      <td>1.054350e-08</td>\n",
       "      <td>2.917514</td>\n",
       "      <td>16</td>\n",
       "    </tr>\n",
       "    <tr>\n",
       "      <th>12</th>\n",
       "      <td>0.775</td>\n",
       "      <td>0.125</td>\n",
       "      <td>0.108956</td>\n",
       "      <td>2.717790e-11</td>\n",
       "      <td>2.939901</td>\n",
       "      <td>17</td>\n",
       "    </tr>\n",
       "    <tr>\n",
       "      <th>13</th>\n",
       "      <td>0.775</td>\n",
       "      <td>0.125</td>\n",
       "      <td>0.110043</td>\n",
       "      <td>9.489022e-11</td>\n",
       "      <td>2.977371</td>\n",
       "      <td>18</td>\n",
       "    </tr>\n",
       "    <tr>\n",
       "      <th>14</th>\n",
       "      <td>0.775</td>\n",
       "      <td>0.125</td>\n",
       "      <td>0.109950</td>\n",
       "      <td>4.382709e-03</td>\n",
       "      <td>2.957901</td>\n",
       "      <td>19</td>\n",
       "    </tr>\n",
       "    <tr>\n",
       "      <th>15</th>\n",
       "      <td>0.775</td>\n",
       "      <td>0.125</td>\n",
       "      <td>0.106470</td>\n",
       "      <td>2.058907e-02</td>\n",
       "      <td>2.798665</td>\n",
       "      <td>20</td>\n",
       "    </tr>\n",
       "    <tr>\n",
       "      <th>16</th>\n",
       "      <td>0.775</td>\n",
       "      <td>0.125</td>\n",
       "      <td>0.104943</td>\n",
       "      <td>2.795106e-02</td>\n",
       "      <td>2.740668</td>\n",
       "      <td>21</td>\n",
       "    </tr>\n",
       "  </tbody>\n",
       "</table>\n",
       "</div>"
      ],
      "text/plain": [
       "    alpha   beta   kappa_0         kappa  inf_over_test  Day\n",
       "0   0.775  0.125  0.115900  2.472714e-13       2.705770    5\n",
       "1   0.775  0.125  0.109540  8.640802e-10       2.774669    6\n",
       "2   0.775  0.125  0.065223  1.206344e-01       1.764604    7\n",
       "3   0.775  0.125  0.082934  6.629895e-02       2.099931    8\n",
       "4   0.775  0.125  0.104995  1.792900e-14       2.822296    9\n",
       "5   0.775  0.125  0.089924  4.695617e-02       2.263911   10\n",
       "6   0.775  0.125  0.092797  3.732302e-02       2.355464   11\n",
       "7   0.775  0.125  0.104239  2.828441e-07       2.824631   12\n",
       "8   0.775  0.125  0.105290  1.722384e-13       2.843347   13\n",
       "9   0.775  0.125  0.106338  1.838751e-10       2.866021   14\n",
       "10  0.775  0.125  0.107281  1.555796e-10       2.889821   15\n",
       "11  0.775  0.125  0.108249  1.054350e-08       2.917514   16\n",
       "12  0.775  0.125  0.108956  2.717790e-11       2.939901   17\n",
       "13  0.775  0.125  0.110043  9.489022e-11       2.977371   18\n",
       "14  0.775  0.125  0.109950  4.382709e-03       2.957901   19\n",
       "15  0.775  0.125  0.106470  2.058907e-02       2.798665   20\n",
       "16  0.775  0.125  0.104943  2.795106e-02       2.740668   21"
      ]
     },
     "execution_count": 17,
     "metadata": {},
     "output_type": "execute_result"
    }
   ],
   "source": [
    "# Transform parameter list into a DataFrame\n",
    "par_block_cv = pd.DataFrame(p_list)\n",
    "# Rename dataframe columns based on SIR-X parameter names\n",
    "par_block_cv.columns = g_sirx.PARAMS\n",
    "# Add the day. Note that we take the days from min_sample until the end of the array, as days\n",
    "# 0,1,2 are used for the first sampling in the block cross-validation\n",
    "par_block_cv['Day'] = t_days[5:]\n",
    "# Explore formatted dataframe for parametric analysis\n",
    "par_block_cv.head(len(p_list))"
   ]
  },
  {
   "cell_type": "code",
   "execution_count": 18,
   "metadata": {
    "scrolled": true
   },
   "outputs": [
    {
     "data": {
      "image/png": "[encoded data removed]",
      "text/plain": [
       "<Figure size 360x360 with 1 Axes>"
      ]
     },
     "metadata": {
      "needs_background": "light"
     },
     "output_type": "display_data"
    }
   ],
   "source": [
    "plt.figure(figsize = [5,5])\n",
    "ax = plt.axes()\n",
    "ax.tick_params(axis = \"both\", which = \"major\", labelsize = 14 )\n",
    "plt.plot(mse_list[0],'ro')\n",
    "plt.xlabel('Number of days used to predict the next day', size = 14)\n",
    "plt.ylabel('MSE', size = 14)\n",
    "plt.show()"
   ]
  },
  {
   "cell_type": "markdown",
   "metadata": {},
   "source": [
    "There is an outlier on day 1, as this is when the missing date starts. A more reliable approach would be to take the last 8 values of the mean squared error to calculate a new average assuming that there will be no more missing data."
   ]
  },
  {
   "cell_type": "markdown",
   "metadata": {},
   "source": [
    "#### Variation of fitted parameters\n",
    "\n",
    "Finally, it is possible to observe how the model parameters change as more days and number of confirmed cases are introduced in the block cross validation. "
   ]
  },
  {
   "cell_type": "markdown",
   "metadata": {},
   "source": [
    "It is clear to observe that after day 15 all parameters except kappa begin to converge. Therefore, care must be taken when performing inference over the parameter kappa."
   ]
  },
  {
   "cell_type": "markdown",
   "metadata": {},
   "source": [
    "### Long term prediction\n",
    "Now we can use the model to predict when the peak will occur and what will be the maximum number of infected"
   ]
  },
  {
   "cell_type": "code",
   "execution_count": 19,
   "metadata": {},
   "outputs": [
    {
     "data": {
      "image/png": "[encoded data removed]",
      "text/plain": [
       "<Figure size 432x432 with 1 Axes>"
      ]
     },
     "metadata": {
      "needs_background": "light"
     },
     "output_type": "display_data"
    }
   ],
   "source": [
    "# Predict\n",
    "plt.figure(figsize=[6,6])\n",
    "ax = plt.axes()\n",
    "ax.tick_params(axis=\"both\", which=\"major\", labelsize= 14 )\n",
    "g_sirx.solve(40,41)\n",
    "# Plot\n",
    "plt.plot(g_sirx.fetch()[:,4], 'b-', linewidth=2) # X(t)\n",
    "plt.plot(g_sirx.fetch()[:,2], 'b--', linewidth=2) # I(t)\n",
    "plt.xlabel('Day', size=14)\n",
    "plt.ylabel('Number of people', size=14)\n",
    "plt.legend([\"X(t): Confirmed\",\"I(t) = Infected\"], fontsize=13)\n",
    "plt.title(city_name)\n",
    "plt.show()"
   ]
  },
  {
   "cell_type": "markdown",
   "metadata": {},
   "source": [
    "The model was trained with a limited amount of data. It is clear to observe that since the measures took place in Guangdong, at least 6 weeks of quarantine were necessary to control the pandemics. Note that a limitation of this model is that it predicts an equilibrium where the number of infected, denoted by the yellow line in the figure above, is 0 after a short time. In reality, this amount will decrease to a small number.\n",
    "\n",
    "After the peak of infections is reached, it is necessary to keep the quarantine and effective contact tracing for at least 30 days more."
   ]
  },
  {
   "cell_type": "markdown",
   "metadata": {},
   "source": [
    "### Validate using model.plot()\n",
    "\n",
    "The function `model.plot()` offers a handy way to visualize model fitting and predictions. Custom visualizations can be validated against the `model.plot()` function."
   ]
  },
  {
   "cell_type": "code",
   "execution_count": 20,
   "metadata": {
    "scrolled": false
   },
   "outputs": [
    {
     "data": {
      "image/png": "[encoded data removed]",
      "text/plain": [
       "<Figure size 360x360 with 2 Axes>"
      ]
     },
     "metadata": {
      "needs_background": "light"
     },
     "output_type": "display_data"
    }
   ],
   "source": [
    "g_sirx.plot()"
   ]
  },
  {
   "cell_type": "markdown",
   "metadata": {},
   "source": [
    "Looking at the values of the number of infected and quarantined individuals, as well as the time of the peak, it is clear that both plots are in good agreement, which validates the customized plot created by the code cell below \"long term prediction\"."
   ]
  }
 ],
 "metadata": {
  "file_extension": ".py",
  "kernelspec": {
   "display_name": "Python 3",
   "language": "python",
   "name": "python3"
  },
  "language_info": {
   "codemirror_mode": {
    "name": "ipython",
    "version": 3
   },
   "file_extension": ".py",
   "mimetype": "text/x-python",
   "name": "python",
   "nbconvert_exporter": "python",
   "pygments_lexer": "ipython3",
   "version": "3.7.6"
  },
  "mimetype": "text/x-python",
  "name": "python",
  "npconvert_exporter": "python",
  "pygments_lexer": "ipython3",
  "version": 3
 },
 "nbformat": 4,
 "nbformat_minor": 2
}
